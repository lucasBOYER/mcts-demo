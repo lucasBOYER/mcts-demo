{
 "cells": [
  {
   "cell_type": "code",
   "execution_count": null,
   "source": [
    "from mcts_demo.env.pendulum import DiscretePendulum\r\n",
    "from mcts_demo.mcts import Vertex, MCTS\r\n",
    "import numpy as np"
   ],
   "outputs": [],
   "metadata": {}
  },
  {
   "cell_type": "code",
   "execution_count": null,
   "source": [
    "p = DiscretePendulum(n_actions=3, max_step=10)"
   ],
   "outputs": [],
   "metadata": {}
  },
  {
   "cell_type": "code",
   "execution_count": null,
   "source": [
    "def run_session(state, timesteps=300, n_search=10, **mcts_kwargs):\r\n",
    "    for _ in range(timesteps):\r\n",
    "        agent = MCTS(root=Vertex(state=state), two_players=False, **mcts_kwargs)\r\n",
    "        torque = agent.search(n_search)\r\n",
    "        state.step_inplace(torque)\r\n",
    "        state.cur_step=0\r\n",
    "        state.render()\r\n",
    "    p.close()"
   ],
   "outputs": [],
   "metadata": {}
  },
  {
   "cell_type": "code",
   "execution_count": null,
   "source": [
    "run_session(p)"
   ],
   "outputs": [],
   "metadata": {}
  }
 ],
 "metadata": {
  "orig_nbformat": 4,
  "language_info": {
   "name": "python",
   "version": "3.7.4",
   "mimetype": "text/x-python",
   "codemirror_mode": {
    "name": "ipython",
    "version": 3
   },
   "pygments_lexer": "ipython3",
   "nbconvert_exporter": "python",
   "file_extension": ".py"
  },
  "kernelspec": {
   "name": "python3",
   "display_name": "Python 3.7.4 64-bit ('mcts-demo-W4dzncvL-py3.7': poetry)"
  },
  "interpreter": {
   "hash": "91919e9121776d280e5ecc015b729fba41e0512e50fdf1428b66449c62f048d6"
  }
 },
 "nbformat": 4,
 "nbformat_minor": 2
}