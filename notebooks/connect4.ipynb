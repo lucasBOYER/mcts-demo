{
 "cells": [
  {
   "cell_type": "code",
   "execution_count": 1,
   "id": "f7e5d768",
   "metadata": {},
   "outputs": [],
   "source": [
    "import sys\n",
    "\n",
    "import numpy as np\n",
    "\n",
    "from mcts_demo.env.connect4 import ConnectEnv\n",
    "from mcts_demo.mcts import Vertex, MCTS"
   ]
  },
  {
   "cell_type": "markdown",
   "id": "f58eb0fa",
   "metadata": {},
   "source": [
    "# Interactive Game Session"
   ]
  },
  {
   "cell_type": "code",
   "execution_count": 2,
   "id": "d5e18ff3",
   "metadata": {},
   "outputs": [],
   "source": [
    "def game_session(start: ConnectEnv, seed=0, n=200, **mcts_kwargs):\n",
    "    rs = np.random.RandomState(seed)\n",
    "    cur_state = start\n",
    "    interrupt = False\n",
    "    while not cur_state.is_end():\n",
    "        cur_state.render()\n",
    "        print(\"\\n\\n\")\n",
    "        if cur_state.turn == 0:  # human\n",
    "            inp = input(\"Next move ? Type 'stop' to stop.\")\n",
    "            if inp == \"stop\":\n",
    "                interrupt = True\n",
    "                break\n",
    "            else:\n",
    "                next_move = int(inp)\n",
    "        else:\n",
    "            agent = MCTS(\n",
    "                root=Vertex(state=cur_state, random_state=rs),\n",
    "                random_state=rs,\n",
    "                **mcts_kwargs,\n",
    "            )\n",
    "            next_move = agent.search(n=n)\n",
    "            print(f\"Bot played: {next_move}\")\n",
    "\n",
    "        cur_state = cur_state.step(next_move)\n",
    "\n",
    "\n",
    "    if cur_state.has_won(0):\n",
    "        print(\"Player 0 won !\")\n",
    "    elif cur_state.has_won(1):\n",
    "        print(\"Player 1 won !\")\n",
    "    elif interrupt:\n",
    "        print(\"Manual stop.\")\n",
    "    else:\n",
    "        print(\"Draw\")\n",
    "            "
   ]
  },
  {
   "cell_type": "code",
   "execution_count": 3,
   "id": "27790b29",
   "metadata": {},
   "outputs": [
    {
     "name": "stdout",
     "output_type": "stream",
     "text": [
      "0   1   2   3   4   5\n",
      "_ | _ | _ | _ | _ | _\n",
      "_ | _ | _ | _ | _ | _\n",
      "_ | _ | _ | _ | _ | _\n",
      "_ | _ | _ | _ | _ | _\n",
      "_ | _ | _ | _ | _ | _\n",
      "_ | _ | _ | _ | _ | _\n",
      "_ | _ | _ | _ | _ | _\n",
      "\n",
      "\n",
      "\n"
     ]
    },
    {
     "name": "stdin",
     "output_type": "stream",
     "text": [
      "Next move ? Type 'stop' to stop. 0\n"
     ]
    },
    {
     "name": "stdout",
     "output_type": "stream",
     "text": [
      "0   1   2   3   4   5\n",
      "_ | _ | _ | _ | _ | _\n",
      "_ | _ | _ | _ | _ | _\n",
      "_ | _ | _ | _ | _ | _\n",
      "_ | _ | _ | _ | _ | _\n",
      "_ | _ | _ | _ | _ | _\n",
      "_ | _ | _ | _ | _ | _\n",
      "X | _ | _ | _ | _ | _\n",
      "\n",
      "\n",
      "\n",
      "Bot played: 3\n",
      "0   1   2   3   4   5\n",
      "_ | _ | _ | _ | _ | _\n",
      "_ | _ | _ | _ | _ | _\n",
      "_ | _ | _ | _ | _ | _\n",
      "_ | _ | _ | _ | _ | _\n",
      "_ | _ | _ | _ | _ | _\n",
      "_ | _ | _ | _ | _ | _\n",
      "X | _ | _ | O | _ | _\n",
      "\n",
      "\n",
      "\n"
     ]
    },
    {
     "name": "stdin",
     "output_type": "stream",
     "text": [
      "Next move ? Type 'stop' to stop. 0\n"
     ]
    },
    {
     "name": "stdout",
     "output_type": "stream",
     "text": [
      "0   1   2   3   4   5\n",
      "_ | _ | _ | _ | _ | _\n",
      "_ | _ | _ | _ | _ | _\n",
      "_ | _ | _ | _ | _ | _\n",
      "_ | _ | _ | _ | _ | _\n",
      "_ | _ | _ | _ | _ | _\n",
      "X | _ | _ | _ | _ | _\n",
      "X | _ | _ | O | _ | _\n",
      "\n",
      "\n",
      "\n",
      "Bot played: 3\n",
      "0   1   2   3   4   5\n",
      "_ | _ | _ | _ | _ | _\n",
      "_ | _ | _ | _ | _ | _\n",
      "_ | _ | _ | _ | _ | _\n",
      "_ | _ | _ | _ | _ | _\n",
      "_ | _ | _ | _ | _ | _\n",
      "X | _ | _ | O | _ | _\n",
      "X | _ | _ | O | _ | _\n",
      "\n",
      "\n",
      "\n"
     ]
    },
    {
     "name": "stdin",
     "output_type": "stream",
     "text": [
      "Next move ? Type 'stop' to stop. 0\n"
     ]
    },
    {
     "name": "stdout",
     "output_type": "stream",
     "text": [
      "0   1   2   3   4   5\n",
      "_ | _ | _ | _ | _ | _\n",
      "_ | _ | _ | _ | _ | _\n",
      "_ | _ | _ | _ | _ | _\n",
      "_ | _ | _ | _ | _ | _\n",
      "X | _ | _ | _ | _ | _\n",
      "X | _ | _ | O | _ | _\n",
      "X | _ | _ | O | _ | _\n",
      "\n",
      "\n",
      "\n",
      "Bot played: 0\n",
      "0   1   2   3   4   5\n",
      "_ | _ | _ | _ | _ | _\n",
      "_ | _ | _ | _ | _ | _\n",
      "_ | _ | _ | _ | _ | _\n",
      "O | _ | _ | _ | _ | _\n",
      "X | _ | _ | _ | _ | _\n",
      "X | _ | _ | O | _ | _\n",
      "X | _ | _ | O | _ | _\n",
      "\n",
      "\n",
      "\n"
     ]
    },
    {
     "name": "stdin",
     "output_type": "stream",
     "text": [
      "Next move ? Type 'stop' to stop. 1\n"
     ]
    },
    {
     "name": "stdout",
     "output_type": "stream",
     "text": [
      "0   1   2   3   4   5\n",
      "_ | _ | _ | _ | _ | _\n",
      "_ | _ | _ | _ | _ | _\n",
      "_ | _ | _ | _ | _ | _\n",
      "O | _ | _ | _ | _ | _\n",
      "X | _ | _ | _ | _ | _\n",
      "X | _ | _ | O | _ | _\n",
      "X | X | _ | O | _ | _\n",
      "\n",
      "\n",
      "\n",
      "Bot played: 3\n",
      "0   1   2   3   4   5\n",
      "_ | _ | _ | _ | _ | _\n",
      "_ | _ | _ | _ | _ | _\n",
      "_ | _ | _ | _ | _ | _\n",
      "O | _ | _ | _ | _ | _\n",
      "X | _ | _ | O | _ | _\n",
      "X | _ | _ | O | _ | _\n",
      "X | X | _ | O | _ | _\n",
      "\n",
      "\n",
      "\n"
     ]
    },
    {
     "name": "stdin",
     "output_type": "stream",
     "text": [
      "Next move ? Type 'stop' to stop. stop\n"
     ]
    },
    {
     "name": "stdout",
     "output_type": "stream",
     "text": [
      "Manual stop.\n"
     ]
    }
   ],
   "source": [
    "game_session(start=ConnectEnv(), n=100, c=2)"
   ]
  },
  {
   "cell_type": "code",
   "execution_count": null,
   "id": "934e1eaf-edbe-43fd-970d-6f4d66413891",
   "metadata": {},
   "outputs": [],
   "source": []
  }
 ],
 "metadata": {
  "interpreter": {
   "hash": "44526d52d7e40f2391cd72c0a333c749c68c7e5eef2c3929ed17d0500e4c753d"
  },
  "kernelspec": {
   "display_name": "Python 3 (ipykernel)",
   "language": "python",
   "name": "python3"
  },
  "language_info": {
   "codemirror_mode": {
    "name": "ipython",
    "version": 3
   },
   "file_extension": ".py",
   "mimetype": "text/x-python",
   "name": "python",
   "nbconvert_exporter": "python",
   "pygments_lexer": "ipython3",
   "version": "3.7.4"
  },
  "toc": {
   "base_numbering": 1,
   "nav_menu": {},
   "number_sections": true,
   "sideBar": true,
   "skip_h1_title": false,
   "title_cell": "Table of Contents",
   "title_sidebar": "Contents",
   "toc_cell": false,
   "toc_position": {},
   "toc_section_display": true,
   "toc_window_display": false
  }
 },
 "nbformat": 4,
 "nbformat_minor": 5
}
